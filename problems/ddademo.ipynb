{
 "cells": [
  {
   "cell_type": "code",
   "execution_count": null,
   "metadata": {
    "collapsed": true
   },
   "outputs": [],
   "source": [
    "import numpy as np\n",
    "import rebound\n",
    "\n",
    "sim = rebound.Simulation()\n",
    "sim.G = 4*np.pi**2\n",
    "sim.add(m=1.)\n",
    "sim.add(m=1.e-3, a=1.)\n",
    "sim.add(m=1.e-3, P=2.2)\n",
    "sim.move_to_com()"
   ]
  },
  {
   "cell_type": "code",
   "execution_count": null,
   "metadata": {
    "collapsed": false
   },
   "outputs": [],
   "source": [
    "%matplotlib inline\n",
    "fig = rebound.OrbitPlot(sim)"
   ]
  },
  {
   "cell_type": "code",
   "execution_count": null,
   "metadata": {
    "collapsed": false
   },
   "outputs": [],
   "source": [
    "import reboundx\n",
    "rebx = reboundx.Extras(sim)\n",
    "rebx.add_modify_orbits_forces()\n",
    "\n",
    "ps = sim.particles\n",
    "ps[2].tau_a = -1000"
   ]
  },
  {
   "cell_type": "code",
   "execution_count": null,
   "metadata": {
    "collapsed": false
   },
   "outputs": [],
   "source": [
    "times = np.linspace(0, -ps[2].tau_a, 1000)\n",
    "Pratio = np.zeros(1000)\n",
    "for i, time in enumerate(times):\n",
    "    sim.integrate(time)\n",
    "    Pratio[i] = ps[2].P/ps[1].P"
   ]
  },
  {
   "cell_type": "code",
   "execution_count": null,
   "metadata": {
    "collapsed": false
   },
   "outputs": [],
   "source": [
    "import matplotlib.pyplot as plt\n",
    "plt.plot(times, Pratio)"
   ]
  },
  {
   "cell_type": "code",
   "execution_count": null,
   "metadata": {
    "collapsed": false
   },
   "outputs": [],
   "source": [
    "from cluster import cluster as cl\n",
    "rc = cl.start_cluster('lobster', 30)"
   ]
  },
  {
   "cell_type": "code",
   "execution_count": null,
   "metadata": {
    "collapsed": false
   },
   "outputs": [],
   "source": [
    "rc.ids"
   ]
  },
  {
   "cell_type": "code",
   "execution_count": null,
   "metadata": {
    "collapsed": true
   },
   "outputs": [],
   "source": [
    "%%px --local\n",
    "import rebound\n",
    "import numpy as np\n",
    "import reboundx\n",
    "def run(tau_a):\n",
    "    sim = rebound.Simulation()\n",
    "    sim.G = 4*np.pi**2\n",
    "    sim.add(m=1.)\n",
    "    sim.add(m=1.e-3, a=1.)\n",
    "    sim.add(m=1.e-3, P=2.2)\n",
    "    sim.move_to_com()\n",
    "    rebx = reboundx.Extras(sim)\n",
    "    params = rebx.add_modify_orbits_forces()\n",
    "\n",
    "    ps = sim.particles\n",
    "    ps[2].tau_a = tau_a\n",
    "    times = np.linspace(0, -ps[2].tau_a, 1000)\n",
    "    Pratio = np.zeros(1000)\n",
    "    for i, time in enumerate(times):\n",
    "        sim.integrate(time)\n",
    "        Pratio[i] = ps[2].P/ps[1].P\n",
    "    return Pratio[-1]"
   ]
  },
  {
   "cell_type": "code",
   "execution_count": null,
   "metadata": {
    "collapsed": false
   },
   "outputs": [],
   "source": [
    "tau_as = np.linspace(-100,-1000, 100)\n",
    "pratios = rc[:].map_sync(run, tau_as)"
   ]
  },
  {
   "cell_type": "code",
   "execution_count": null,
   "metadata": {
    "collapsed": false
   },
   "outputs": [],
   "source": [
    "plt.plot(tau_as, pratios, '.')"
   ]
  },
  {
   "cell_type": "code",
   "execution_count": null,
   "metadata": {
    "collapsed": true
   },
   "outputs": [],
   "source": [
    "cl.shutdown_cluster('lobster', rc)"
   ]
  }
 ],
 "metadata": {
  "kernelspec": {
   "display_name": "Python 2",
   "language": "python",
   "name": "python2"
  },
  "language_info": {
   "codemirror_mode": {
    "name": "ipython",
    "version": 2
   },
   "file_extension": ".py",
   "mimetype": "text/x-python",
   "name": "python",
   "nbconvert_exporter": "python",
   "pygments_lexer": "ipython2",
   "version": "2.7.10"
  }
 },
 "nbformat": 4,
 "nbformat_minor": 0
}
