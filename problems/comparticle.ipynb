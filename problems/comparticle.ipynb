{
 "cells": [
  {
   "cell_type": "code",
   "execution_count": 1,
   "metadata": {
    "collapsed": true
   },
   "outputs": [],
   "source": [
    "import rebound\n",
    "import reboundx\n",
    "import os\n",
    "import random\n",
    "import numpy as np\n",
    "\n",
    "c = 100.\n",
    "def bary(reb_sim, rebx_effect): \n",
    "    sim = reb_sim.contents\n",
    "    ps[2].ax = 0.\n",
    "    ps[2].ay = 0.\n",
    "    ps[2].az = 0.\n",
    "    '''\n",
    "    s = sim.calculate_com()\n",
    "    prefac1 = 6.*sim.G**2*s.m**2/c**2\n",
    "    for i in range(2):\n",
    "        if i == 0:\n",
    "            continue\n",
    "        diff = ps[i] - s\n",
    "        r2 = diff.x**2 + diff.y**2 + diff.z**2\n",
    "        prefac = prefac1/r2**2\n",
    "        ps[i].ax -= prefac*diff.x\n",
    "        ps[i].ay -= prefac*diff.y\n",
    "        ps[i].az -= prefac*diff.z\n",
    "        ps[2].ax += ps[i].m/ps[2].r*prefac*diff.x\n",
    "        ps[2].ay += ps[i].m/ps[2].r*prefac*diff.y\n",
    "        ps[2].az += ps[i].m/ps[2].r*prefac*diff.z\n",
    "    '''\n",
    "        \n",
    "def baryE(sim):\n",
    "    E = sim.calculate_energy()\n",
    "    s = sim.calculate_com()\n",
    "    prefac = 3.*sim.G**2*s.m**2/c**2\n",
    "    for i in range(sim.N_real):\n",
    "        if i == 0:\n",
    "            continue\n",
    "        diff = ps[i] - s\n",
    "        E -= prefac*ps[i].m/(diff.x**2 + diff.y**2 + diff.z**2)\n",
    "    return E"
   ]
  },
  {
   "cell_type": "code",
   "execution_count": 30,
   "metadata": {
    "collapsed": false
   },
   "outputs": [
    {
     "data": {
      "image/png": "[encoded data removed]",
      "text/plain": [
       "<matplotlib.figure.Figure at 0x7fca8dfa5e90>"
      ]
     },
     "metadata": {},
     "output_type": "display_data"
    }
   ],
   "source": [
    "random.seed(os.getpid())\n",
    "sim = rebound.Simulation()\n",
    "sim.add(m=1., vy=1.e-3)\n",
    "ps = sim.particles\n",
    "Nout = 1000\n",
    "tmax = 1.e6\n",
    "xs, ys = np.zeros(Nout), np.zeros(Nout)\n",
    "times = np.logspace(0,np.log10(tmax),Nout)\n",
    "for i, t in enumerate(times):\n",
    "    sim.integrate(t)\n",
    "    xs[i] = ps[0].x\n",
    "    ys[i] = ps[0].y\n",
    "\n",
    "%matplotlib inline\n",
    "import matplotlib.pyplot as plt\n",
    "\n",
    "fig, axarr = plt.subplots(ncols=2, figsize=(12,6))\n",
    "axarr[0].plot(times, np.abs(ys), 'b.')\n",
    "axarr[1].plot(times, np.abs(ys-1.e-3*times), 'b.')\n",
    "axarr[1].set_yscale('log')\n",
    "axarr[1].set_xscale('log')"
   ]
  },
  {
   "cell_type": "code",
   "execution_count": 15,
   "metadata": {
    "collapsed": false
   },
   "outputs": [],
   "source": [
    "random.seed(os.getpid())\n",
    "sim = rebound.Simulation()\n",
    "sim.add(m=1.)\n",
    "sim.add(m=1.e-3, a=1., f=0.)#random.random()*2.*np.pi)\n",
    "com = sim.calculate_com()\n",
    "comvy = com.vy\n",
    "sim.move_to_com()\n",
    "#sim.add(com)\n",
    "ps = sim.particles\n",
    "#ps[2].r = ps[2].m\n",
    "#ps[2].m = 0.\n",
    "\n",
    "#rebx = reboundx.Extras(sim)\n",
    "#rebx.add_custom_force(bary, 0)\n",
    "\n",
    "#sim.ri_ias15.epsilon_global = 0"
   ]
  },
  {
   "cell_type": "code",
   "execution_count": 16,
   "metadata": {
    "collapsed": true
   },
   "outputs": [],
   "source": [
    "sim.integrate(1.)"
   ]
  },
  {
   "cell_type": "code",
   "execution_count": 17,
   "metadata": {
    "collapsed": false
   },
   "outputs": [
    {
     "data": {
      "text/plain": [
       "0.14726622889100016"
      ]
     },
     "execution_count": 17,
     "metadata": {},
     "output_type": "execute_result"
    }
   ],
   "source": [
    "sim.dt_last_done"
   ]
  },
  {
   "cell_type": "code",
   "execution_count": 14,
   "metadata": {
    "collapsed": false
   },
   "outputs": [
    {
     "ename": "IndexError",
     "evalue": "invalid index",
     "output_type": "error",
     "traceback": [
      "\u001b[1;31m---------------------------------------------------------------------------\u001b[0m",
      "\u001b[1;31mIndexError\u001b[0m                                Traceback (most recent call last)",
      "\u001b[1;32m<ipython-input-14-4c421a29d1f2>\u001b[0m in \u001b[0;36m<module>\u001b[1;34m()\u001b[0m\n\u001b[0;32m      6\u001b[0m \u001b[1;32mfor\u001b[0m \u001b[0mi\u001b[0m\u001b[1;33m,\u001b[0m \u001b[0mt\u001b[0m \u001b[1;32min\u001b[0m \u001b[0menumerate\u001b[0m\u001b[1;33m(\u001b[0m\u001b[0mtimes\u001b[0m\u001b[1;33m)\u001b[0m\u001b[1;33m:\u001b[0m\u001b[1;33m\u001b[0m\u001b[0m\n\u001b[0;32m      7\u001b[0m     \u001b[0msim\u001b[0m\u001b[1;33m.\u001b[0m\u001b[0mintegrate\u001b[0m\u001b[1;33m(\u001b[0m\u001b[0mt\u001b[0m\u001b[1;33m)\u001b[0m\u001b[1;33m\u001b[0m\u001b[0m\n\u001b[1;32m----> 8\u001b[1;33m     \u001b[0mcomx\u001b[0m\u001b[1;33m[\u001b[0m\u001b[0mi\u001b[0m\u001b[1;33m]\u001b[0m \u001b[1;33m=\u001b[0m \u001b[0mps\u001b[0m\u001b[1;33m[\u001b[0m\u001b[1;36m2\u001b[0m\u001b[1;33m]\u001b[0m\u001b[1;33m.\u001b[0m\u001b[0mx\u001b[0m\u001b[1;33m\u001b[0m\u001b[0m\n\u001b[0m\u001b[0;32m      9\u001b[0m     \u001b[0mcomy\u001b[0m\u001b[1;33m[\u001b[0m\u001b[0mi\u001b[0m\u001b[1;33m]\u001b[0m \u001b[1;33m=\u001b[0m \u001b[0mps\u001b[0m\u001b[1;33m[\u001b[0m\u001b[1;36m2\u001b[0m\u001b[1;33m]\u001b[0m\u001b[1;33m.\u001b[0m\u001b[0my\u001b[0m\u001b[1;33m\u001b[0m\u001b[0m\n\u001b[0;32m     10\u001b[0m     \u001b[0mxrels\u001b[0m\u001b[1;33m[\u001b[0m\u001b[0mi\u001b[0m\u001b[1;33m]\u001b[0m \u001b[1;33m=\u001b[0m \u001b[0mps\u001b[0m\u001b[1;33m[\u001b[0m\u001b[1;36m1\u001b[0m\u001b[1;33m]\u001b[0m\u001b[1;33m.\u001b[0m\u001b[0mx\u001b[0m\u001b[1;33m\u001b[0m\u001b[0m\n",
      "\u001b[1;31mIndexError\u001b[0m: invalid index"
     ]
    }
   ],
   "source": [
    "Nout = 1000\n",
    "tmax = 1.e0\n",
    "comx, comy = np.zeros(Nout), np.zeros(Nout)\n",
    "xrels, yrels = np.zeros(Nout), np.zeros(Nout)\n",
    "times = np.linspace(0,tmax,Nout)\n",
    "for i, t in enumerate(times):\n",
    "    sim.integrate(t)\n",
    "    comx[i] = ps[2].x\n",
    "    comy[i] = ps[2].y\n",
    "    xrels[i] = ps[1].x\n",
    "    yrels[i] = ps[1].y\n",
    "\n",
    "%matplotlib inline\n",
    "import matplotlib.pyplot as plt\n",
    "\n",
    "fig, axarr = plt.subplots(ncols=2, figsize=(12,6))\n",
    "axarr[0].plot(times, np.abs(comy), 'b.')\n",
    "axarr[1].plot(times, np.abs(comy-comvy*times), 'b.')\n",
    "axarr[1].set_yscale('log')\n",
    "axarr[1].set_xscale('log')"
   ]
  },
  {
   "cell_type": "code",
   "execution_count": 19,
   "metadata": {
    "collapsed": false
   },
   "outputs": [
    {
     "data": {
      "text/plain": [
       "0.8409000632509892"
      ]
     },
     "execution_count": 19,
     "metadata": {},
     "output_type": "execute_result"
    }
   ],
   "source": [
    "yrels[-1]"
   ]
  },
  {
   "cell_type": "code",
   "execution_count": 5,
   "metadata": {
    "collapsed": false
   },
   "outputs": [
    {
     "data": {
      "text/plain": [
       "[<matplotlib.lines.Line2D at 0x7fca8dcccf50>]"
      ]
     },
     "execution_count": 5,
     "metadata": {},
     "output_type": "execute_result"
    },
    {
     "data": {
      "image/png": "[encoded data removed]",
      "text/plain": [
       "<matplotlib.figure.Figure at 0x7fca8df43890>"
      ]
     },
     "metadata": {},
     "output_type": "display_data"
    }
   ],
   "source": [
    "sim = rebound.Simulation()\n",
    "sim.add(m=1.)\n",
    "sim.add(m=1.e-3, a=1., f=0.)\n",
    "ps = sim.particles\n",
    "\n",
    "xs, ys = np.zeros(Nout), np.zeros(Nout)\n",
    "for i, t in enumerate(times):\n",
    "    sim.integrate(t)\n",
    "    xs[i] = ps[1].x\n",
    "    ys[i] = ps[1].y\n",
    "\n",
    "%matplotlib inline\n",
    "import matplotlib.pyplot as plt\n",
    "\n",
    "fig, axarr = plt.subplots(ncols=2, figsize=(12,6))\n",
    "axarr[0].plot(times, np.abs(ys-(comy+yrels)), 'b.')\n",
    "axarr[0].set_yscale('log')\n",
    "axarr[0].set_xscale('log')\n",
    "axarr[1].plot(times, yrels, 'b.')"
   ]
  },
  {
   "cell_type": "code",
   "execution_count": 7,
   "metadata": {
    "collapsed": false
   },
   "outputs": [
    {
     "data": {
      "text/plain": [
       "1.0010010009775527e-06"
      ]
     },
     "execution_count": 7,
     "metadata": {},
     "output_type": "execute_result"
    }
   ],
   "source": [
    "sim.dt_last_done"
   ]
  },
  {
   "cell_type": "code",
   "execution_count": null,
   "metadata": {
    "collapsed": false
   },
   "outputs": [],
   "source": [
    "E0 = baryE(sim)\n",
    "Nout = 1000\n",
    "tmax = 1.e1\n",
    "comr = np.zeros(Nout)\n",
    "Eerr = np.zeros(Nout)\n",
    "es = np.zeros(Nout)\n",
    "times = np.logspace(0,np.log10(tmax),Nout)\n",
    "for i, t in enumerate(times):\n",
    "    sim.integrate(t)\n",
    "    es[i] = ps[1].e\n",
    "    com = sim.calculate_com()\n",
    "    comr[i] = abs((np.sqrt(com.x**2 + com.y**2)-1.e-3)/1.e-3)\n",
    "    Eerr[i] = abs((baryE(sim)-E0)/E0)"
   ]
  },
  {
   "cell_type": "code",
   "execution_count": null,
   "metadata": {
    "collapsed": true
   },
   "outputs": [],
   "source": [
    "%matplotlib inline\n",
    "import matplotlib.pyplot as plt\n",
    "\n",
    "fig, axarr = plt.subplots(ncols=2, figsize=(12,6))\n",
    "axarr[0].plot(times, comr, 'b.')\n",
    "axarr[0].set_xscale('log')\n",
    "axarr[0].set_yscale('log')\n",
    "axarr[0].set_xlabel('time', fontsize=18)\n",
    "axarr[0].set_ylabel(r'$R_{COM}$', fontsize=18)\n",
    "axarr[1].plot(times, Eerr, 'b.')\n",
    "axarr[1].set_xscale('log')\n",
    "axarr[1].set_yscale('log')\n",
    "axarr[1].set_xlabel('time', fontsize=18)\n",
    "axarr[1].set_ylabel(r'Rel. Energy Error', fontsize=18)"
   ]
  },
  {
   "cell_type": "code",
   "execution_count": null,
   "metadata": {
    "collapsed": true
   },
   "outputs": [],
   "source": []
  }
 ],
 "metadata": {
  "kernelspec": {
   "display_name": "Python 2",
   "language": "python",
   "name": "python2"
  },
  "language_info": {
   "codemirror_mode": {
    "name": "ipython",
    "version": 2
   },
   "file_extension": ".py",
   "mimetype": "text/x-python",
   "name": "python",
   "nbconvert_exporter": "python",
   "pygments_lexer": "ipython2",
   "version": "2.7.10"
  }
 },
 "nbformat": 4,
 "nbformat_minor": 0
}
