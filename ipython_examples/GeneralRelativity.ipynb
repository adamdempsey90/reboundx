{
 "cells": [
  {
   "cell_type": "markdown",
   "metadata": {},
   "source": [
    "# Adding Post-Newtonian general relativity corrections\n",
    "\n",
    "It's easy to add post-newtonian corrections to your REBOUND simulations with REBOUNDx.  Let's start with a simulation without GR:"
   ]
  },
  {
   "cell_type": "code",
   "execution_count": 6,
   "metadata": {
    "collapsed": false
   },
   "outputs": [
    {
     "name": "stdout",
     "output_type": "stream",
     "text": [
      "pomega = 0.0000000000000000\n"
     ]
    }
   ],
   "source": [
    "import rebound\n",
    "sim = rebound.Simulation()\n",
    "sim.add(m=1.) # Sun\n",
    "sim.add(m=1.66013e-07,a=0.387098,e=0.205630) # Mercury-like\n",
    "sim.move_to_com() # Moves to the center of momentum frame\n",
    "\n",
    "sim.integrate(10.)\n",
    "print(\"pomega = %.16f\"%sim.particles[1].pomega)"
   ]
  },
  {
   "cell_type": "markdown",
   "metadata": {},
   "source": [
    "As expected, the pericenter did not move at all.  Now let's add GR"
   ]
  },
  {
   "cell_type": "code",
   "execution_count": 7,
   "metadata": {
    "collapsed": false
   },
   "outputs": [],
   "source": [
    "import reboundx\n",
    "rebx = reboundx.Extras(sim)\n",
    "params = rebx.add_gr()\n",
    "E0 = rebx.gr_energy(sim)"
   ]
  },
  {
   "cell_type": "markdown",
   "metadata": {},
   "source": [
    "and run for another 100 time units"
   ]
  },
  {
   "cell_type": "code",
   "execution_count": 8,
   "metadata": {
    "collapsed": false
   },
   "outputs": [
    {
     "name": "stdout",
     "output_type": "stream",
     "text": [
      "pomega = 0.0000332618451799\n",
      "Rate of change of pomega = 43.1083 [arcsec / Julian century]\n",
      "Rel. energy error = 3.7032278805956587e-16\n"
     ]
    }
   ],
   "source": [
    "deltat = 100.\n",
    "sim.integrate(sim.t + deltat)\n",
    "print(\"pomega = %.16f\"%sim.particles[1].pomega)\n",
    "juliancentury = 628.33195 # in yr/2pi\n",
    "arcsec = 4.8481368e-06 # in rad\n",
    "print(\"Rate of change of pomega = %.4f [arcsec / Julian century]\"% (sim.particles[1].pomega/deltat*juliancentury/arcsec))\n",
    "E_error = abs(rebx.gr_energy(sim) - E0)/abs(E0)\n",
    "print(\"Rel. energy error = {0}\".format(E_error))"
   ]
  },
  {
   "cell_type": "markdown",
   "metadata": {},
   "source": [
    "As expected there was pericenter precession. The literature value is 42.98 arcsec / century. "
   ]
  },
  {
   "cell_type": "markdown",
   "metadata": {
    "collapsed": true
   },
   "source": [
    "**Units**\n",
    "\n",
    "To add GR, you need to pass `add_gr` the speed of light `c` in the units appropriate to the simulation.  By not passing a value above, `c` defaulted to our default units of AU, $M_\\odot$ and yr/$2\\pi$, for which `G=1` which is what we used for our initial conditions above.\n",
    "\n",
    "But imagine now we wanted to instead use SI units:"
   ]
  },
  {
   "cell_type": "code",
   "execution_count": 9,
   "metadata": {
    "collapsed": false
   },
   "outputs": [],
   "source": [
    "sim = rebound.Simulation()\n",
    "sim.G = 6.67408e-11\n",
    "sim.add(m=1.989e30) # Sun\n",
    "sim.add(m=3.30216458e23,a=5.79090366e10,e=0.205630) # SI units\n",
    "sim.move_to_com() # Moves to the center of momentum frame\n",
    "rebx = reboundx.Extras(sim)"
   ]
  },
  {
   "cell_type": "markdown",
   "metadata": {
    "collapsed": false
   },
   "source": [
    "If you call `add_gr()` like before you'll get an error telling complaining you changed `G`.  You must explicitly pass `c`:"
   ]
  },
  {
   "cell_type": "code",
   "execution_count": 10,
   "metadata": {
    "collapsed": false
   },
   "outputs": [],
   "source": [
    "params = rebx.add_gr(c=3.e8)"
   ]
  },
  {
   "cell_type": "markdown",
   "metadata": {},
   "source": [
    "Currently, setting the `units` member in Simulation does not work with REBOUNDx.  If you want to use your own units you always have to pass `c` explicitly."
   ]
  },
  {
   "cell_type": "markdown",
   "metadata": {
    "collapsed": true
   },
   "source": [
    "**Variants**\n",
    "\n",
    "Above we always called `add_gr`, but there are other options depending on your application:\n",
    "\n",
    "* `add_gr` (default): Assumes that only a single mass is the source of post-newtonian corrections (Eq. 2 of Benitez and Gallardo 2008).  This should be good enough for most applications with planets orbiting stars in which GR matters.  Gets both the mean motion and precession correct.  Will be significantly faster than `add_gr_full`, particularly with several bodies.\n",
    "\n",
    "* `add_gr_potential`: This is the simplest potential you can use for GR.  It gets the precession right, but the mean motion is wrong by $\\mathcal{O}(GM/ac^2)$.  Like `add_gr`, it takes a single particle to be the source of the GR effects.  It is the fastest option, and because it's not velocity-dependent, it automatically keeps WHFAST symplectic.  Nice if you don't need to get GR exactly right, and want speed.\n",
    "\n",
    "* `add_gr_full`: Allows for multiple massive bodies (Eq. 1 of Benitez and Gallardo 2008).  This gets the GR corrections to the mean motion and the precession correct, and it doesn't matter how you order your planets.  This is the safe option, though it is slower.\n",
    "\n",
    "To set the source particle for `add_gr` or `add_gr_potential`, you'd pass the appropriate particle, e.g., `add_gr(source=sim.particles[2])`.\n"
   ]
  },
  {
   "cell_type": "code",
   "execution_count": null,
   "metadata": {
    "collapsed": true
   },
   "outputs": [],
   "source": []
  }
 ],
 "metadata": {
  "kernelspec": {
   "display_name": "Python 3",
   "language": "python",
   "name": "python3"
  },
  "language_info": {
   "codemirror_mode": {
    "name": "ipython",
    "version": 3
   },
   "file_extension": ".py",
   "mimetype": "text/x-python",
   "name": "python",
   "nbconvert_exporter": "python",
   "pygments_lexer": "ipython3",
   "version": "3.5.1"
  }
 },
 "nbformat": 4,
 "nbformat_minor": 0
}
